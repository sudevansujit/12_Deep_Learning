{
 "cells": [
  {
   "cell_type": "markdown",
   "metadata": {},
   "source": [
    "# Numpy Manually Creating Gradient"
   ]
  },
  {
   "cell_type": "code",
   "execution_count": 64,
   "metadata": {},
   "outputs": [],
   "source": [
    "import numpy as np"
   ]
  },
  {
   "cell_type": "code",
   "execution_count": 65,
   "metadata": {},
   "outputs": [],
   "source": [
    "# f = w*x\n",
    "\n",
    "# f = 2*x"
   ]
  },
  {
   "cell_type": "code",
   "execution_count": 66,
   "metadata": {},
   "outputs": [],
   "source": [
    "X = np.array([1, 2, 3, 4], dtype = np.float32)\n",
    "Y = np.array([2, 4, 6, 8], dtype = np.float32)"
   ]
  },
  {
   "cell_type": "code",
   "execution_count": 67,
   "metadata": {},
   "outputs": [],
   "source": [
    "# Initialize weights\n",
    "w = 0.0\n"
   ]
  },
  {
   "cell_type": "code",
   "execution_count": 68,
   "metadata": {},
   "outputs": [],
   "source": [
    "#Model Prediction\n",
    "def forward(x):\n",
    "    return w*x"
   ]
  },
  {
   "cell_type": "code",
   "execution_count": 69,
   "metadata": {},
   "outputs": [],
   "source": [
    "#Loss\n",
    "def loss(y, y_pred):\n",
    "    return((y_pred - y)** 2).mean()"
   ]
  },
  {
   "cell_type": "code",
   "execution_count": 70,
   "metadata": {},
   "outputs": [],
   "source": [
    "#Gradient\n",
    "# MSE = 1/N*((w*x - y)**2)\n",
    "# dJ/dx = 1/N*(2*(w*x - y))"
   ]
  },
  {
   "cell_type": "code",
   "execution_count": 71,
   "metadata": {},
   "outputs": [],
   "source": [
    "def gradient(x, y, y_pred):\n",
    "    return np.dot(2*x, (y_pred - y)).mean()"
   ]
  },
  {
   "cell_type": "code",
   "execution_count": 72,
   "metadata": {},
   "outputs": [
    {
     "name": "stdout",
     "output_type": "stream",
     "text": [
      "Prediction before Training: f(5):  0.000\n"
     ]
    }
   ],
   "source": [
    "print(F\"Prediction before Training: f(5):  {forward(5):.3f}\")"
   ]
  },
  {
   "cell_type": "code",
   "execution_count": 73,
   "metadata": {},
   "outputs": [],
   "source": [
    "learning_rate = 0.01\n",
    "n_iters = 100"
   ]
  },
  {
   "cell_type": "code",
   "execution_count": 74,
   "metadata": {},
   "outputs": [
    {
     "name": "stdout",
     "output_type": "stream",
     "text": [
      "epoch 1,weight 1.200 ,loss30.00000000 \n",
      "epoch 3,weight 1.872 ,loss0.76800019 \n",
      "epoch 5,weight 1.980 ,loss0.01966083 \n",
      "epoch 7,weight 1.997 ,loss0.00050332 \n",
      "epoch 9,weight 1.999 ,loss0.00001288 \n",
      "epoch 11,weight 2.000 ,loss0.00000033 \n",
      "epoch 13,weight 2.000 ,loss0.00000001 \n",
      "epoch 15,weight 2.000 ,loss0.00000000 \n",
      "epoch 17,weight 2.000 ,loss0.00000000 \n",
      "epoch 19,weight 2.000 ,loss0.00000000 \n",
      "epoch 21,weight 2.000 ,loss0.00000000 \n",
      "epoch 23,weight 2.000 ,loss0.00000000 \n",
      "epoch 25,weight 2.000 ,loss0.00000000 \n",
      "epoch 27,weight 2.000 ,loss0.00000000 \n",
      "epoch 29,weight 2.000 ,loss0.00000000 \n",
      "epoch 31,weight 2.000 ,loss0.00000000 \n",
      "epoch 33,weight 2.000 ,loss0.00000000 \n",
      "epoch 35,weight 2.000 ,loss0.00000000 \n",
      "epoch 37,weight 2.000 ,loss0.00000000 \n",
      "epoch 39,weight 2.000 ,loss0.00000000 \n",
      "epoch 41,weight 2.000 ,loss0.00000000 \n",
      "epoch 43,weight 2.000 ,loss0.00000000 \n",
      "epoch 45,weight 2.000 ,loss0.00000000 \n",
      "epoch 47,weight 2.000 ,loss0.00000000 \n",
      "epoch 49,weight 2.000 ,loss0.00000000 \n",
      "epoch 51,weight 2.000 ,loss0.00000000 \n",
      "epoch 53,weight 2.000 ,loss0.00000000 \n",
      "epoch 55,weight 2.000 ,loss0.00000000 \n",
      "epoch 57,weight 2.000 ,loss0.00000000 \n",
      "epoch 59,weight 2.000 ,loss0.00000000 \n",
      "epoch 61,weight 2.000 ,loss0.00000000 \n",
      "epoch 63,weight 2.000 ,loss0.00000000 \n",
      "epoch 65,weight 2.000 ,loss0.00000000 \n",
      "epoch 67,weight 2.000 ,loss0.00000000 \n",
      "epoch 69,weight 2.000 ,loss0.00000000 \n",
      "epoch 71,weight 2.000 ,loss0.00000000 \n",
      "epoch 73,weight 2.000 ,loss0.00000000 \n",
      "epoch 75,weight 2.000 ,loss0.00000000 \n",
      "epoch 77,weight 2.000 ,loss0.00000000 \n",
      "epoch 79,weight 2.000 ,loss0.00000000 \n",
      "epoch 81,weight 2.000 ,loss0.00000000 \n",
      "epoch 83,weight 2.000 ,loss0.00000000 \n",
      "epoch 85,weight 2.000 ,loss0.00000000 \n",
      "epoch 87,weight 2.000 ,loss0.00000000 \n",
      "epoch 89,weight 2.000 ,loss0.00000000 \n",
      "epoch 91,weight 2.000 ,loss0.00000000 \n",
      "epoch 93,weight 2.000 ,loss0.00000000 \n",
      "epoch 95,weight 2.000 ,loss0.00000000 \n",
      "epoch 97,weight 2.000 ,loss0.00000000 \n",
      "epoch 99,weight 2.000 ,loss0.00000000 \n",
      "Prediction after training f(5) 10.000\n"
     ]
    }
   ],
   "source": [
    "for epoch in range(n_iters):\n",
    "    #prediction = forward pass\n",
    "    y_pred = forward(X)\n",
    "    \n",
    "    #loss\n",
    "    l = loss(Y, y_pred)\n",
    "    \n",
    "    #gradients\n",
    "    dw = gradient(X, Y, y_pred)\n",
    "    \n",
    "    #update weights\n",
    "    w -= learning_rate * dw\n",
    "    \n",
    "    if epoch % 2 == 0 :\n",
    "        print(f\"epoch {epoch + 1},weight {w:.3f} ,loss{l:.8f} \")\n",
    "print(f\"Prediction after training f(5) {forward(5):.3f}\")"
   ]
  },
  {
   "cell_type": "markdown",
   "metadata": {},
   "source": [
    "# Gradient Using Pytorch"
   ]
  },
  {
   "cell_type": "code",
   "execution_count": 96,
   "metadata": {},
   "outputs": [],
   "source": [
    "import torch"
   ]
  },
  {
   "cell_type": "code",
   "execution_count": 97,
   "metadata": {},
   "outputs": [],
   "source": [
    "X = torch.tensor([1, 2, 3, 4], dtype = torch.float32)\n",
    "Y = torch.tensor([2, 4, 6, 8], dtype = torch.float32)"
   ]
  },
  {
   "cell_type": "code",
   "execution_count": 98,
   "metadata": {},
   "outputs": [],
   "source": [
    "w = torch.tensor(0.0, dtype = torch.float32, requires_grad = True)"
   ]
  },
  {
   "cell_type": "code",
   "execution_count": 99,
   "metadata": {},
   "outputs": [],
   "source": [
    "#Model Prediction\n",
    "def forward(x):\n",
    "    return w*x"
   ]
  },
  {
   "cell_type": "code",
   "execution_count": 100,
   "metadata": {},
   "outputs": [],
   "source": [
    "#Loss\n",
    "def loss(y, y_pred):\n",
    "    return((y_pred - y)** 2).mean()"
   ]
  },
  {
   "cell_type": "code",
   "execution_count": 101,
   "metadata": {},
   "outputs": [
    {
     "name": "stdout",
     "output_type": "stream",
     "text": [
      "epoch 1,   weight 0.300 ,   loss30.00000000 \n",
      "epoch 3,   weight 0.772 ,   loss15.66018772 \n",
      "epoch 5,   weight 1.113 ,   loss8.17471695 \n",
      "epoch 7,   weight 1.359 ,   loss4.26725292 \n",
      "epoch 9,   weight 1.537 ,   loss2.22753215 \n",
      "epoch 11,   weight 1.665 ,   loss1.16278565 \n",
      "epoch 13,   weight 1.758 ,   loss0.60698116 \n",
      "epoch 15,   weight 1.825 ,   loss0.31684780 \n",
      "epoch 17,   weight 1.874 ,   loss0.16539653 \n",
      "epoch 19,   weight 1.909 ,   loss0.08633806 \n",
      "epoch 21,   weight 1.934 ,   loss0.04506890 \n",
      "epoch 23,   weight 1.952 ,   loss0.02352631 \n",
      "epoch 25,   weight 1.966 ,   loss0.01228084 \n",
      "epoch 27,   weight 1.975 ,   loss0.00641066 \n",
      "epoch 29,   weight 1.982 ,   loss0.00334642 \n",
      "epoch 31,   weight 1.987 ,   loss0.00174685 \n",
      "epoch 33,   weight 1.991 ,   loss0.00091188 \n",
      "epoch 35,   weight 1.993 ,   loss0.00047601 \n",
      "epoch 37,   weight 1.995 ,   loss0.00024848 \n",
      "epoch 39,   weight 1.996 ,   loss0.00012971 \n",
      "epoch 41,   weight 1.997 ,   loss0.00006770 \n",
      "epoch 43,   weight 1.998 ,   loss0.00003534 \n",
      "epoch 45,   weight 1.999 ,   loss0.00001845 \n",
      "epoch 47,   weight 1.999 ,   loss0.00000963 \n",
      "epoch 49,   weight 1.999 ,   loss0.00000503 \n",
      "epoch 51,   weight 1.999 ,   loss0.00000262 \n",
      "epoch 53,   weight 2.000 ,   loss0.00000137 \n",
      "epoch 55,   weight 2.000 ,   loss0.00000071 \n",
      "epoch 57,   weight 2.000 ,   loss0.00000037 \n",
      "epoch 59,   weight 2.000 ,   loss0.00000019 \n",
      "epoch 61,   weight 2.000 ,   loss0.00000010 \n",
      "epoch 63,   weight 2.000 ,   loss0.00000005 \n",
      "epoch 65,   weight 2.000 ,   loss0.00000003 \n",
      "epoch 67,   weight 2.000 ,   loss0.00000001 \n",
      "epoch 69,   weight 2.000 ,   loss0.00000001 \n",
      "epoch 71,   weight 2.000 ,   loss0.00000000 \n",
      "epoch 73,   weight 2.000 ,   loss0.00000000 \n",
      "epoch 75,   weight 2.000 ,   loss0.00000000 \n",
      "epoch 77,   weight 2.000 ,   loss0.00000000 \n",
      "epoch 79,   weight 2.000 ,   loss0.00000000 \n",
      "epoch 81,   weight 2.000 ,   loss0.00000000 \n",
      "epoch 83,   weight 2.000 ,   loss0.00000000 \n",
      "epoch 85,   weight 2.000 ,   loss0.00000000 \n",
      "epoch 87,   weight 2.000 ,   loss0.00000000 \n",
      "epoch 89,   weight 2.000 ,   loss0.00000000 \n",
      "epoch 91,   weight 2.000 ,   loss0.00000000 \n",
      "epoch 93,   weight 2.000 ,   loss0.00000000 \n",
      "epoch 95,   weight 2.000 ,   loss0.00000000 \n",
      "epoch 97,   weight 2.000 ,   loss0.00000000 \n",
      "epoch 99,   weight 2.000 ,   loss0.00000000 \n",
      "Prediction after training f(5) 10.000\n"
     ]
    }
   ],
   "source": [
    "learning_rate = 0.01\n",
    "n_iters = 100\n",
    "\n",
    "for epoch in range(n_iters):\n",
    "    #prediction = forward pass\n",
    "    y_pred = forward(X)\n",
    "    \n",
    "    #loss\n",
    "    l = loss(Y, y_pred)\n",
    "    \n",
    "    #gradient = backward pass\n",
    "    l.backward()    #dl/dw\n",
    "    \n",
    "    #update weights\n",
    "    with torch.no_grad():\n",
    "        w -= learning_rate * w.grad\n",
    "        \n",
    "    #zero gradients\n",
    "    w.grad.zero_()\n",
    "    \n",
    "    if epoch % 2 == 0 :\n",
    "        print(f\"epoch {epoch + 1},   weight {w:.3f} ,   loss{l:.8f} \")\n",
    "print(f\"Prediction after training f(5) {forward(5):.3f}\")"
   ]
  },
  {
   "cell_type": "code",
   "execution_count": null,
   "metadata": {},
   "outputs": [],
   "source": []
  }
 ],
 "metadata": {
  "kernelspec": {
   "display_name": "Python 3",
   "language": "python",
   "name": "python3"
  },
  "language_info": {
   "codemirror_mode": {
    "name": "ipython",
    "version": 3
   },
   "file_extension": ".py",
   "mimetype": "text/x-python",
   "name": "python",
   "nbconvert_exporter": "python",
   "pygments_lexer": "ipython3",
   "version": "3.7.7"
  }
 },
 "nbformat": 4,
 "nbformat_minor": 4
}
